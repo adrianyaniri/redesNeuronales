{
 "cells": [
  {
   "cell_type": "code",
   "outputs": [],
   "source": [
    "import random\n",
    "import numpy as np\n",
    "import matplotlib.pyplot as plt\n",
    "\n",
    "from sklearn.model_selection import train_test_split\n",
    "from sklearn.metrics import accuracy_score, precision_score, recall_score, f1_score\n",
    "\n",
    "from function.generate_data import datos_xor\n",
    "from modelo.nlp import PerceptronMultilayer\n",
    "from function.act_functions import tanh\n",
    "\n",
    "#Semilla aleatoria\n",
    "random.seed(42)\n"
   ],
   "metadata": {
    "collapsed": false,
    "ExecuteTime": {
     "end_time": "2024-02-21T00:02:19.446074943Z",
     "start_time": "2024-02-21T00:02:18.473988733Z"
    }
   },
   "id": "e8afd4ab64096c83",
   "execution_count": 1
  },
  {
   "cell_type": "code",
   "outputs": [],
   "source": [
    "# Datos de entrada y salida\n",
    "X, y = datos_xor(1000,2)\n",
    "# Sepracion del conjunto de entrada\n",
    "X_train, X_test, y_train, y_test = train_test_split(X, y, test_size=0.2, shuffle=True,random_state=42)\n"
   ],
   "metadata": {
    "collapsed": false,
    "ExecuteTime": {
     "end_time": "2024-02-21T00:02:19.448208600Z",
     "start_time": "2024-02-21T00:02:19.433782916Z"
    }
   },
   "id": "27fff6df6eb13f03",
   "execution_count": 2
  },
  {
   "cell_type": "code",
   "outputs": [
    {
     "name": "stdout",
     "output_type": "stream",
     "text": [
      "Epoca 0: Error = 0.3729808054801321\n",
      "Epoca 10: Error = 0.252676092001613\n",
      "Epoca 20: Error = 0.2504611228728168\n",
      "Epoca 30: Error = 0.25043552495908916\n",
      "Epoca 40: Error = 0.2504205379720999\n",
      "Epoca 50: Error = 0.2504061138268401\n",
      "Epoca 60: Error = 0.25039218425884807\n",
      "Epoca 70: Error = 0.25037872628077246\n",
      "Epoca 80: Error = 0.2503657188863684\n",
      "Epoca 90: Error = 0.2503531423289195\n",
      "Epoca 100: Error = 0.2503409779877419\n",
      "Epoca 110: Error = 0.2503292082874716\n",
      "Epoca 120: Error = 0.25031781662751645\n",
      "Epoca 130: Error = 0.2503067873173823\n",
      "Epoca 140: Error = 0.25029610551707004\n",
      "Epoca 150: Error = 0.25028575718207036\n",
      "Epoca 160: Error = 0.25027572901254996\n",
      "Epoca 170: Error = 0.2502660084063679\n",
      "Epoca 180: Error = 0.25025658341558704\n",
      "Epoca 190: Error = 0.25024744270619104\n",
      "Epoca 200: Error = 0.25023857552073236\n",
      "Epoca 210: Error = 0.2502299716436707\n",
      "Epoca 220: Error = 0.2502216213691809\n",
      "Epoca 230: Error = 0.2502135154712276\n",
      "Epoca 240: Error = 0.2502056451757284\n",
      "Epoca 250: Error = 0.2501980021346371\n",
      "Epoca 260: Error = 0.2501905784017958\n",
      "Epoca 270: Error = 0.25018336641042077\n",
      "Epoca 280: Error = 0.2501763589520942\n",
      "Epoca 290: Error = 0.250169549157148\n",
      "Epoca 300: Error = 0.25016293047633403\n",
      "Epoca 310: Error = 0.250156496663688\n",
      "Epoca 320: Error = 0.25015024176049305\n",
      "Epoca 330: Error = 0.25014416008026813\n",
      "Epoca 340: Error = 0.2501382461947052\n",
      "Epoca 350: Error = 0.25013249492048534\n",
      "Epoca 360: Error = 0.2501269013069148\n",
      "Epoca 370: Error = 0.2501214606243195\n",
      "Epoca 380: Error = 0.25011616835315065\n",
      "Epoca 390: Error = 0.2501110201737447\n",
      "Epoca 400: Error = 0.2501060119567016\n",
      "Epoca 410: Error = 0.25010113975383186\n",
      "Epoca 420: Error = 0.2500963997896409\n",
      "Epoca 430: Error = 0.2500917884533083\n",
      "Epoca 440: Error = 0.2500873022911361\n",
      "Epoca 450: Error = 0.25008293799943015\n",
      "Epoca 460: Error = 0.25007869241778896\n",
      "Epoca 470: Error = 0.25007456252277555\n",
      "Epoca 480: Error = 0.25007054542194285\n",
      "Epoca 490: Error = 0.25006663834819587\n",
      "Epoca 500: Error = 0.2500628386544667\n",
      "Epoca 510: Error = 0.25005914380868327\n",
      "Epoca 520: Error = 0.2500555513890146\n",
      "Epoca 530: Error = 0.2500520590793737\n",
      "Epoca 540: Error = 0.2500486646651662\n",
      "Epoca 550: Error = 0.2500453660292661\n",
      "Epoca 560: Error = 0.2500421611482072\n",
      "Epoca 570: Error = 0.25003904808857697\n",
      "Epoca 580: Error = 0.25003602500360045\n",
      "Epoca 590: Error = 0.2500330901299056\n",
      "Epoca 600: Error = 0.2500302417844548\n",
      "Epoca 610: Error = 0.2500274783616375\n",
      "Epoca 620: Error = 0.2500247983305128\n",
      "Epoca 630: Error = 0.2500222002321929\n",
      "Epoca 640: Error = 0.2500196826773619\n",
      "Epoca 650: Error = 0.2500172443439181\n",
      "Epoca 660: Error = 0.2500148839747373\n",
      "Epoca 670: Error = 0.25001260037554796\n",
      "Epoca 680: Error = 0.2500103924129117\n",
      "Epoca 690: Error = 0.25000825901230517\n",
      "Epoca 700: Error = 0.2500061991562954\n",
      "Epoca 710: Error = 0.25000421188280514\n",
      "Epoca 720: Error = 0.2500022962834619\n",
      "Epoca 730: Error = 0.2500004515020282\n",
      "Epoca 740: Error = 0.2499986767329056\n",
      "Epoca 750: Error = 0.24999697121971007\n",
      "Epoca 760: Error = 0.24999533425391454\n",
      "Epoca 770: Error = 0.24999376517355595\n",
      "Epoca 780: Error = 0.2499922633619998\n",
      "Epoca 790: Error = 0.2499908282467629\n",
      "Epoca 800: Error = 0.2499894592983877\n",
      "Epoca 810: Error = 0.24998815602936844\n",
      "Epoca 820: Error = 0.2499869179931221\n",
      "Epoca 830: Error = 0.2499857447830044\n",
      "Epoca 840: Error = 0.24998463603136833\n",
      "Epoca 850: Error = 0.24998359140865936\n",
      "Epoca 860: Error = 0.24998261062254865\n",
      "Epoca 870: Error = 0.249981693417099\n",
      "Epoca 880: Error = 0.249980839571963\n",
      "Epoca 890: Error = 0.24998004890161082\n",
      "Epoca 900: Error = 0.24997932125458378\n",
      "Epoca 910: Error = 0.24997865651277434\n",
      "Epoca 920: Error = 0.2499780545907281\n",
      "Epoca 930: Error = 0.24997751543496802\n",
      "Epoca 940: Error = 0.24997703902333596\n",
      "Epoca 950: Error = 0.24997662536435283\n",
      "Epoca 960: Error = 0.2499762744965935\n",
      "Epoca 970: Error = 0.2499759864880754\n",
      "Epoca 980: Error = 0.24997576143565908\n",
      "Epoca 990: Error = 0.24997559946445772\n"
     ]
    }
   ],
   "source": [
    "# Se crea el modelo \n",
    "# Y se entrena el modelo\n",
    "\n",
    "funcion_activacion = tanh\n",
    "capas =[2,4,1]\n",
    "\n",
    "model = PerceptronMultilayer(capas, tanh)\n",
    "\n",
    "model.train(X_train,y_train, epochs=1000, learning_rate=0.0001)\n"
   ],
   "metadata": {
    "collapsed": false,
    "ExecuteTime": {
     "end_time": "2024-02-21T00:02:54.486591881Z",
     "start_time": "2024-02-21T00:02:19.434395898Z"
    }
   },
   "id": "7762f9698cc2129",
   "execution_count": 3
  },
  {
   "cell_type": "code",
   "outputs": [],
   "source": [
    "# Se crea un prediccion sobre el conjunto de TEST\n",
    "y_pred = model.predict(X_test)\n",
    "\n",
    "# Metricas del modelo\n",
    "accuracy = accuracy_score(y_test, y_pred)\n",
    "precision = precision_score(y_test, y_pred)\n",
    "recall = recall_score(y_test, y_pred)\n",
    "f1 = f1_score(y_test, y_pred)\n",
    "\n",
    "print(\"Precisión:\", accuracy)\n",
    "print(\"Precisión:\", precision)\n",
    "print(\"Recuerdo:\", recall)\n",
    "print(\"Puntaje F1:\", f1)\n"
   ],
   "metadata": {
    "collapsed": false,
    "ExecuteTime": {
     "start_time": "2024-02-21T00:02:54.853554958Z"
    }
   },
   "id": "9e0d2b8b9bd18f00",
   "execution_count": null
  },
  {
   "cell_type": "code",
   "outputs": [],
   "source": [
    "# Crear una lista con los nombres de las métricas\n",
    "nombres_metricas = [\"Precisión\", \"Precisión\", \"Recuerdo\", \"Puntaje F1\"]\n",
    "\n",
    "# Crear una lista con los valores de las métricas\n",
    "metricas_valores = [accuracy, precision, recall, f1]\n",
    "\n",
    "# Crear el gráfico de barras\n",
    "plt.figure(figsize=(8, 6))\n",
    "plt.bar(nombres_metricas, metricas_valores, color=['blue', 'green', 'orange', 'red'])\n",
    "plt.xlabel(\"Métricas\")\n",
    "plt.ylabel(\"Valor\")\n",
    "plt.title(\"Métricas de evaluación del modelo\")\n",
    "plt.xticks(rotation=45)  # Rotar las etiquetas del eje X para mejor visualización\n",
    "plt.tight_layout()\n",
    "plt.show()"
   ],
   "metadata": {
    "collapsed": false,
    "ExecuteTime": {
     "start_time": "2024-02-21T00:02:54.855285028Z"
    }
   },
   "id": "6c6c6bf30ec363d5",
   "execution_count": null
  },
  {
   "cell_type": "code",
   "outputs": [],
   "source": [
    "import matplotlib.pyplot as plt\n",
    "\n",
    "# Crear una cuadrícula de puntos\n",
    "x_min, x_max = X[:, 0].min() - .5, X[:, 0].max() + .5\n",
    "y_min, y_max = X[:, 1].min() - .5, X[:, 1].max() + .5\n",
    "h = .01  # paso más pequeño en la malla\n",
    "xx, yy = np.meshgrid(np.arange(x_min, x_max, h), np.arange(y_min, y_max, h))\n",
    "\n",
    "# Predecir la función en cada punto de la cuadrícula\n",
    "Z = model.predict(np.c_[xx.ravel(), yy.ravel()])\n",
    "Z = Z.reshape(xx.shape)\n",
    "\n",
    "# Dibujar la superficie de decisión\n",
    "contour = plt.contourf(xx, yy, Z, cmap=plt.cm.coolwarm)\n",
    "plt.scatter(X[:, 0], X[:, 1], c=y, edgecolors='k')\n",
    "\n",
    "# Agregar etiquetas\n",
    "plt.title('Superficie de decisión del modelo')\n",
    "plt.xlabel('Característica 1')\n",
    "plt.ylabel('Característica 2')\n",
    "\n",
    "# Agregar una barra de colores\n",
    "plt.colorbar(contour)\n",
    "\n",
    "plt.show()\n"
   ],
   "metadata": {
    "collapsed": false,
    "ExecuteTime": {
     "start_time": "2024-02-21T00:02:54.856599156Z"
    }
   },
   "id": "ae1240af9b99a21a",
   "execution_count": null
  },
  {
   "cell_type": "code",
   "outputs": [],
   "source": [],
   "metadata": {
    "collapsed": false,
    "ExecuteTime": {
     "start_time": "2024-02-21T00:02:54.857944252Z"
    }
   },
   "id": "4356ae3ef9210836",
   "execution_count": null
  }
 ],
 "metadata": {
  "kernelspec": {
   "display_name": "Python 3",
   "language": "python",
   "name": "python3"
  },
  "language_info": {
   "codemirror_mode": {
    "name": "ipython",
    "version": 2
   },
   "file_extension": ".py",
   "mimetype": "text/x-python",
   "name": "python",
   "nbconvert_exporter": "python",
   "pygments_lexer": "ipython2",
   "version": "2.7.6"
  }
 },
 "nbformat": 4,
 "nbformat_minor": 5
}
