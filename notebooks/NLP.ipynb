{
 "cells": [
  {
   "cell_type": "code",
   "execution_count": null,
   "id": "initial_id",
   "metadata": {
    "collapsed": true
   },
   "outputs": [],
   "source": [
    "from function.act_functions import sigmoid_function, tanh\n",
    "from function.generate_data import datos_linealmente_seprables, datos_xor\n",
    "from models.NLP import NLP\n",
    "from sklearn.model_selection import train_test_split\n",
    "\n",
    "# Generar datos\n",
    "X_, y_ = datos_xor(20, 2)\n",
    "X_train, X_test, y_train, y_test = train_test_split(X_, y_, test_size=0.2, random_state=42)\n",
    "\n",
    "n_input = X_.shape[1]\n",
    "n_layers = 3\n",
    "n_neurons_layer = [2, 2, 2]\n",
    "activation_function = tanh\n",
    "learning_rate = 0.1\n",
    "\n",
    "nlp = NLP(n_layers=n_layers, n_neurons_layer=n_neurons_layer, activation_function=activation_function,\n",
    "            input_features=n_input, learning_rate=learning_rate)\n"
   ]
  },
  {
   "cell_type": "code",
   "outputs": [],
   "source": [
    "from matplotlib.lines import Line2D\n",
    "import matplotlib.pyplot as plt\n",
    "import seaborn as sns\n",
    "\n",
    "# Obtener las clases reales de y_train\n",
    "y_train_clases = y_train.argmax(axis=1)  # Usar argmax para obtener las clases a partir de la codificación one-hot\n",
    "\n",
    "# Configuración del estilo de seaborn para visualización\n",
    "sns.set(style=\"whitegrid\", palette=\"muted\")\n",
    "\n",
    "# Crear una leyenda personalizada\n",
    "legend_elements = [Line2D([0], [0], marker='o', color='w', label='Clase 0', \n",
    "                      markerfacecolor=sns.color_palette(\"hls\")[0], markersize=10),\n",
    "               Line2D([0], [0], marker='x', color='w', label='Clase 1', \n",
    "                      markerfacecolor=sns.color_palette(\"hls\")[1], markersize=10)]\n",
    "\n",
    "# Graficar los puntos con distintos colores según la clase\n",
    "plt.scatter(X_train[:, 0], X_train[:, 1], c=y_train_clases, cmap='viridis', edgecolors='w', linewidth=0.5)\n",
    "\n",
    "# Añadir la leyenda al gráfico\n",
    "\n",
    "\n",
    "# Mostrar la cuadrícula y el gráfico\n",
    "plt.show()\n"
   ],
   "metadata": {
    "collapsed": false
   },
   "id": "17ed3fb6bb9643ba",
   "execution_count": null
  },
  {
   "cell_type": "code",
   "outputs": [],
   "source": [
    "epochs = 1000\n",
    "nlp.train(X_train,y_train, epochs=epochs)\n"
   ],
   "metadata": {
    "collapsed": false
   },
   "id": "afb2c15de910203d",
   "execution_count": null
  },
  {
   "cell_type": "code",
   "outputs": [],
   "source": [
    "import matplotlib.pyplot as plt\n",
    "\n",
    "# Grafica la pérdida durante el entrenamiento\n",
    "plt.plot(nlp.loss_history)\n",
    "plt.xlabel('Epoch')\n",
    "plt.ylabel('Loss')\n",
    "plt.show()\n"
   ],
   "metadata": {
    "collapsed": false
   },
   "id": "227d6f51b7d05708",
   "execution_count": null
  },
  {
   "cell_type": "code",
   "outputs": [
    {
     "name": "stdout",
     "output_type": "stream",
     "text": [
      "[[ 0.79148812  0.2512974 ]\n",
      " [ 0.73457604  0.19829801]\n",
      " [ 0.81777896  0.36018997]\n",
      " [ 0.69663689 -0.10400073]]\n"
     ]
    }
   ],
   "source": [
    "from sklearn.metrics import accuracy_score\n",
    "predictions = nlp.predict(X_test)\n",
    "print(predictions)"
   ],
   "metadata": {
    "collapsed": false,
    "ExecuteTime": {
     "end_time": "2024-02-06T04:53:24.622413401Z",
     "start_time": "2024-02-06T04:53:24.578608915Z"
    }
   },
   "id": "7c3d1569e8dbb17c",
   "execution_count": 6
  }
 ],
 "metadata": {
  "kernelspec": {
   "display_name": "Python 3",
   "language": "python",
   "name": "python3"
  },
  "language_info": {
   "codemirror_mode": {
    "name": "ipython",
    "version": 2
   },
   "file_extension": ".py",
   "mimetype": "text/x-python",
   "name": "python",
   "nbconvert_exporter": "python",
   "pygments_lexer": "ipython2",
   "version": "2.7.6"
  }
 },
 "nbformat": 4,
 "nbformat_minor": 5
}
